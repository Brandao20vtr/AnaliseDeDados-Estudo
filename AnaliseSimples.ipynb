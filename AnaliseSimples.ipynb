{
 "cells": [
  {
   "cell_type": "code",
   "execution_count": null,
   "metadata": {},
   "outputs": [],
   "source": [
    "print()\n",
    "\n",
    "print('\\t\\t\\tCADASTRANDO VÁRIAS PESSOAS\\n#*#*#*#*#*#*#*#*#*#*#*#*#*#*#*#*#*#*#*#*#*#*#*#*#*#*\\n')\n",
    "\n",
    "tot18, totH, totM = 0\n",
    "\n",
    "while True:\n",
    "    idade = int(input('Digite sua idade: '))\n",
    "\n",
    "    sexo = ' '\n",
    "\n",
    "    # Com esse outro WHILE ele só vai aceitar(Seguir em frente) quando o usuário digitar M ou F, se não ele irá ficar pedindo repetidamente.\n",
    "    while sexo not in 'MF':\n",
    "        sexo = str(input('Informe seu sexo [M/F]: ')).strip().upper()[0]\n",
    "\n",
    "    if idade >=18:\n",
    "        tot18 +=1\n",
    "\n",
    "    if sexo == 'M':\n",
    "        totH += 1\n",
    "\n",
    "    if sexo == 'F' and idade < 20:\n",
    "        totM +=1\n",
    "\n",
    "    opcao = ' '\n",
    "\n",
    "    # Com esse outro WHILE ele só vai aceitar(Seguir em frente) quando o usuário digitar S ou N, se não ele irá ficar pedindo repetidamente.\n",
    "    while opcao not in 'SN':\n",
    "        opcao = str(input('\\n\\033[1mVocê deseja continuar? [S/N]\\033[m ')).strip().upper()[0]\n",
    "        print()\n",
    "\n",
    "    if opcao == 'N':\n",
    "        break\n",
    "\n",
    "print(f'Total de pessoas com mais de 18 anos: {tot18}')\n",
    "print(f'Ao todo temos {totH} homens cadastrados.')\n",
    "print(f'E temos {totM} mulheres com menos de 20 anos.')\n",
    "print('\\nFim do Programa! Até a próxima.')"
   ]
  }
 ],
 "metadata": {
  "language_info": {
   "name": "python"
  },
  "orig_nbformat": 4
 },
 "nbformat": 4,
 "nbformat_minor": 2
}
