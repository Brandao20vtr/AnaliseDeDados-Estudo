{
 "cells": [
  {
   "cell_type": "code",
   "execution_count": 5,
   "metadata": {},
   "outputs": [
    {
     "name": "stdout",
     "output_type": "stream",
     "text": [
      "\n",
      "\t\tCADASTRANDO VÁRIAS PESSOAS\n",
      "#*#*#*#*#*#*#*#*#*#*#*#*#*#*#*#*#*#*#*#*#*#*#*#*#*#*\n",
      "\n",
      "\n",
      "\n",
      "Total de pessoas com mais de 18 anos: 1\n",
      "Ao todo temos 2 homens cadastrados.\n",
      "E temos 0 mulheres com menos de 20 anos.\n",
      "\n",
      "Fim do Programa! Até a próxima.\n"
     ]
    }
   ],
   "source": [
    "# Pulando uma linha e iniciando a análise\n",
    "print()\n",
    "\n",
    "# Título do código\n",
    "print('\\t\\tCADASTRANDO VÁRIAS PESSOAS\\n#*#*#*#*#*#*#*#*#*#*#*#*#*#*#*#*#*#*#*#*#*#*#*#*#*#*\\n')\n",
    "\n",
    "# tot18, totH, totM = 0\n",
    "tot18 = 0\n",
    "totH = 0\n",
    "totM = 0\n",
    "\n",
    "while True:\n",
    "    idade = int(input('Digite sua idade: '))\n",
    "\n",
    "    sexo = ' '\n",
    "\n",
    "    # Com esse outro WHILE ele só vai aceitar(Seguir em frente) quando o usuário digitar M ou F, se não ele irá ficar pedindo repetidamente.\n",
    "    while sexo not in 'MF':\n",
    "        sexo = str(input('Informe seu sexo [M/F]: ')).strip().upper()[0]\n",
    "\n",
    "    if idade >=18:\n",
    "        tot18 +=1\n",
    "\n",
    "    if sexo == 'M':\n",
    "        totH += 1\n",
    "\n",
    "    if sexo == 'F' and idade < 20:\n",
    "        totM +=1\n",
    "\n",
    "    opcao = ' '\n",
    "\n",
    "    # Com esse outro WHILE ele só vai aceitar(Seguir em frente) quando o usuário digitar S ou N, se não ele irá ficar pedindo repetidamente.\n",
    "    while opcao not in 'SN':\n",
    "        opcao = str(input('\\nVocê deseja continuar? [S/N] ')).strip().upper()[0]\n",
    "        print()\n",
    "\n",
    "    if opcao == 'N':\n",
    "        break\n",
    "\n",
    "print(f'Total de pessoas com mais de 18 anos: {tot18}')\n",
    "print(f'Ao todo temos {totH} homens cadastrados.')\n",
    "print(f'E temos {totM} mulheres com menos de 20 anos.')\n",
    "print('\\nFim do Programa! Até a próxima.')"
   ]
  }
 ],
 "metadata": {
  "kernelspec": {
   "display_name": "base",
   "language": "python",
   "name": "python3"
  },
  "language_info": {
   "codemirror_mode": {
    "name": "ipython",
    "version": 3
   },
   "file_extension": ".py",
   "mimetype": "text/x-python",
   "name": "python",
   "nbconvert_exporter": "python",
   "pygments_lexer": "ipython3",
   "version": "3.8.8"
  },
  "orig_nbformat": 4
 },
 "nbformat": 4,
 "nbformat_minor": 2
}
